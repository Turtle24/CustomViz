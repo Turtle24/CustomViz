{
 "cells": [
  {
   "cell_type": "code",
   "execution_count": 2,
   "metadata": {},
   "outputs": [],
   "source": [
    "import numpy as np \n",
    "import pandas as pd \n",
    "import matplotlib.pyplot as plt\n",
    "import seaborn as sns\n",
    "from sqlalchemy import create_engine\n",
    "%matplotlib inline"
   ]
  },
  {
   "cell_type": "code",
   "execution_count": 7,
   "metadata": {},
   "outputs": [],
   "source": [
    "stock_df = pd.DataFrame()\n",
    "symbols = []\n",
    "import os\n",
    "# for dirname, _, filenames in os.walk('/kaggle/input/stock-market-dataset/stocks'):\n",
    "#     for filename in filenames:\n",
    "#         symbol = filename.split('.')[0]\n",
    "#         symbols.append(symbol)\n",
    "#         new_df = pd.read_csv(os.path.join(dirname, filename))\n",
    "#         new_df['Symbol'] = symbol\n",
    "#         stock_df = pd.concat([stock_df,new_df], ignore_index = True)\n",
    "\n",
    "for dirname, _, filenames in os.walk(r'C:\\Users\\Aidan\\Documents\\StocksAnalysis\\stocks\\stocks'):\n",
    "    for i in range(1,100):\n",
    "        symbol = filenames[i].split('.')[0]\n",
    "        symbols.append(symbol)\n",
    "        new_df = pd.read_csv(os.path.join(dirname, filenames[i]))\n",
    "        new_df['Symbol'] = symbol\n",
    "        stock_df = pd.concat([stock_df,new_df], ignore_index = True)"
   ]
  },
  {
   "cell_type": "code",
   "execution_count": 8,
   "metadata": {},
   "outputs": [
    {
     "data": {
      "text/html": [
       "<div>\n",
       "<style scoped>\n",
       "    .dataframe tbody tr th:only-of-type {\n",
       "        vertical-align: middle;\n",
       "    }\n",
       "\n",
       "    .dataframe tbody tr th {\n",
       "        vertical-align: top;\n",
       "    }\n",
       "\n",
       "    .dataframe thead th {\n",
       "        text-align: right;\n",
       "    }\n",
       "</style>\n",
       "<table border=\"1\" class=\"dataframe\">\n",
       "  <thead>\n",
       "    <tr style=\"text-align: right;\">\n",
       "      <th></th>\n",
       "      <th>Date</th>\n",
       "      <th>Open</th>\n",
       "      <th>High</th>\n",
       "      <th>Low</th>\n",
       "      <th>Close</th>\n",
       "      <th>Adj Close</th>\n",
       "      <th>Volume</th>\n",
       "      <th>Symbol</th>\n",
       "    </tr>\n",
       "  </thead>\n",
       "  <tbody>\n",
       "    <tr>\n",
       "      <th>0</th>\n",
       "      <td>1962-01-02</td>\n",
       "      <td>6.532155</td>\n",
       "      <td>6.556185</td>\n",
       "      <td>6.532155</td>\n",
       "      <td>6.532155</td>\n",
       "      <td>1.536658</td>\n",
       "      <td>55900.0</td>\n",
       "      <td>AA</td>\n",
       "    </tr>\n",
       "    <tr>\n",
       "      <th>1</th>\n",
       "      <td>1962-01-03</td>\n",
       "      <td>6.532155</td>\n",
       "      <td>6.632280</td>\n",
       "      <td>6.524145</td>\n",
       "      <td>6.632280</td>\n",
       "      <td>1.560212</td>\n",
       "      <td>74500.0</td>\n",
       "      <td>AA</td>\n",
       "    </tr>\n",
       "    <tr>\n",
       "      <th>2</th>\n",
       "      <td>1962-01-04</td>\n",
       "      <td>6.632280</td>\n",
       "      <td>6.664320</td>\n",
       "      <td>6.632280</td>\n",
       "      <td>6.632280</td>\n",
       "      <td>1.560212</td>\n",
       "      <td>80500.0</td>\n",
       "      <td>AA</td>\n",
       "    </tr>\n",
       "    <tr>\n",
       "      <th>3</th>\n",
       "      <td>1962-01-05</td>\n",
       "      <td>6.632280</td>\n",
       "      <td>6.656310</td>\n",
       "      <td>6.616260</td>\n",
       "      <td>6.624270</td>\n",
       "      <td>1.558326</td>\n",
       "      <td>70500.0</td>\n",
       "      <td>AA</td>\n",
       "    </tr>\n",
       "    <tr>\n",
       "      <th>4</th>\n",
       "      <td>1962-01-08</td>\n",
       "      <td>6.608250</td>\n",
       "      <td>6.608250</td>\n",
       "      <td>6.339915</td>\n",
       "      <td>6.408000</td>\n",
       "      <td>1.507450</td>\n",
       "      <td>93800.0</td>\n",
       "      <td>AA</td>\n",
       "    </tr>\n",
       "  </tbody>\n",
       "</table>\n",
       "</div>"
      ],
      "text/plain": [
       "         Date      Open      High       Low     Close  Adj Close   Volume  \\\n",
       "0  1962-01-02  6.532155  6.556185  6.532155  6.532155   1.536658  55900.0   \n",
       "1  1962-01-03  6.532155  6.632280  6.524145  6.632280   1.560212  74500.0   \n",
       "2  1962-01-04  6.632280  6.664320  6.632280  6.632280   1.560212  80500.0   \n",
       "3  1962-01-05  6.632280  6.656310  6.616260  6.624270   1.558326  70500.0   \n",
       "4  1962-01-08  6.608250  6.608250  6.339915  6.408000   1.507450  93800.0   \n",
       "\n",
       "  Symbol  \n",
       "0     AA  \n",
       "1     AA  \n",
       "2     AA  \n",
       "3     AA  \n",
       "4     AA  "
      ]
     },
     "execution_count": 8,
     "metadata": {},
     "output_type": "execute_result"
    }
   ],
   "source": [
    "stock_df.head(5)"
   ]
  },
  {
   "cell_type": "code",
   "execution_count": 9,
   "metadata": {},
   "outputs": [
    {
     "data": {
      "text/plain": [
       "<bound method DataFrame.count of               Date       Open       High        Low      Close  Adj Close  \\\n",
       "0       1962-01-02   6.532155   6.556185   6.532155   6.532155   1.536658   \n",
       "1       1962-01-03   6.532155   6.632280   6.524145   6.632280   1.560212   \n",
       "2       1962-01-04   6.632280   6.664320   6.632280   6.632280   1.560212   \n",
       "3       1962-01-05   6.632280   6.656310   6.616260   6.624270   1.558326   \n",
       "4       1962-01-08   6.608250   6.608250   6.339915   6.408000   1.507450   \n",
       "...            ...        ...        ...        ...        ...        ...   \n",
       "442505  2020-03-26  46.779999  56.610001  45.490002  55.209999  55.209999   \n",
       "442506  2020-03-27  52.930000  53.730000  49.139999  50.180000  50.180000   \n",
       "442507  2020-03-30  50.189999  51.750000  48.980000  50.160000  50.160000   \n",
       "442508  2020-03-31  49.790001  50.380001  46.619999  48.490002  48.490002   \n",
       "442509  2020-04-01  45.900002  46.959999  43.560001  44.150002  44.150002   \n",
       "\n",
       "          Volume Symbol  \n",
       "0        55900.0     AA  \n",
       "1        74500.0     AA  \n",
       "2        80500.0     AA  \n",
       "3        70500.0     AA  \n",
       "4        93800.0     AA  \n",
       "...          ...    ...  \n",
       "442505  370100.0   AEIS  \n",
       "442506  315700.0   AEIS  \n",
       "442507  299600.0   AEIS  \n",
       "442508  381200.0   AEIS  \n",
       "442509  269700.0   AEIS  \n",
       "\n",
       "[442510 rows x 8 columns]>"
      ]
     },
     "execution_count": 9,
     "metadata": {},
     "output_type": "execute_result"
    }
   ],
   "source": [
    "stock_df.count"
   ]
  },
  {
   "cell_type": "code",
   "execution_count": 21,
   "metadata": {},
   "outputs": [],
   "source": [
    "hostname=\"127.0.0.1\"\n",
    "dbname=\"stocks\"\n",
    "uname=\"root\"\n",
    "pwd=\"fear1234\""
   ]
  },
  {
   "cell_type": "code",
   "execution_count": 22,
   "metadata": {},
   "outputs": [],
   "source": [
    "engine = create_engine(\"mysql+pymysql://{user}:{pw}@{host}/{db}\".format(host=hostname, db=dbname, user=uname, pw=pwd))"
   ]
  },
  {
   "cell_type": "code",
   "execution_count": 23,
   "metadata": {},
   "outputs": [],
   "source": [
    "stock_df.to_sql('users', engine, index=False)"
   ]
  },
  {
   "cell_type": "code",
   "execution_count": 1,
   "metadata": {},
   "outputs": [
    {
     "ename": "NameError",
     "evalue": "name 'stock_df' is not defined",
     "output_type": "error",
     "traceback": [
      "\u001b[1;31m---------------------------------------------------------------------------\u001b[0m",
      "\u001b[1;31mNameError\u001b[0m                                 Traceback (most recent call last)",
      "\u001b[1;32m<ipython-input-1-08d17c0b4f80>\u001b[0m in \u001b[0;36m<module>\u001b[1;34m\u001b[0m\n\u001b[1;32m----> 1\u001b[1;33m \u001b[0mstock_df\u001b[0m\u001b[1;33m.\u001b[0m\u001b[0mshape\u001b[0m\u001b[1;33m\u001b[0m\u001b[1;33m\u001b[0m\u001b[0m\n\u001b[0m",
      "\u001b[1;31mNameError\u001b[0m: name 'stock_df' is not defined"
     ]
    }
   ],
   "source": [
    "stock_df.shape"
   ]
  },
  {
   "cell_type": "code",
   "execution_count": null,
   "metadata": {},
   "outputs": [],
   "source": []
  }
 ],
 "metadata": {
  "kernelspec": {
   "display_name": "Python 3",
   "language": "python",
   "name": "python3"
  },
  "language_info": {
   "codemirror_mode": {
    "name": "ipython",
    "version": 3
   },
   "file_extension": ".py",
   "mimetype": "text/x-python",
   "name": "python",
   "nbconvert_exporter": "python",
   "pygments_lexer": "ipython3",
   "version": "3.8.6"
  }
 },
 "nbformat": 4,
 "nbformat_minor": 4
}
